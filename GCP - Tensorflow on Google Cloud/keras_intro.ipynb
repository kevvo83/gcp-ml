{
 "cells": [
  {
   "cell_type": "markdown",
   "id": "401deeea-2046-47a2-9346-bd1b2df12b31",
   "metadata": {},
   "source": [
    "# Intro to Keras\n",
    "\n",
    "References:\n",
    "* https://victorzhou.com/blog/keras-neural-network-tutorial/\n",
    "* https://partner.cloudskillsboost.google/paths/84/course_templates/12 (Tensorflow on Google Cloud)\n",
    "\n",
    "## Contents\n",
    "1. Making a introductory NN model using Keras\n",
    "2. Hyperparameter tuning\n",
    "3. Tensorflow Introduction"
   ]
  },
  {
   "cell_type": "markdown",
   "id": "e89625e6-2a58-4e5b-bd8b-7d40a851339a",
   "metadata": {},
   "source": [
    "## Making a introductory NN model using Keras"
   ]
  },
  {
   "cell_type": "code",
   "execution_count": 32,
   "id": "a83d1bf5-a7d3-4734-b4e6-c0998451ae58",
   "metadata": {},
   "outputs": [],
   "source": [
    "import numpy as np\n",
    "import mnist\n",
    "import tensorflow as tf\n",
    "from tensorflow import keras\n",
    "from tensorflow.keras.models import Sequential\n",
    "from tensorflow.keras.layers import Dense, Input\n",
    "from tensorflow.keras.utils import to_categorical"
   ]
  },
  {
   "cell_type": "code",
   "execution_count": 8,
   "id": "328b8806-015e-4777-baf6-ef901fdbabf5",
   "metadata": {},
   "outputs": [
    {
     "name": "stdout",
     "output_type": "stream",
     "text": [
      "(60000, 28, 28)\n",
      "(60000,)\n",
      "(60000, 784)\n",
      "(10000, 784)\n"
     ]
    }
   ],
   "source": [
    "# train dataset\n",
    "train_images = mnist.train_images()\n",
    "train_labels = mnist.train_labels()\n",
    "\n",
    "# test dataset\n",
    "test_images = mnist.test_images()\n",
    "test_labels = mnist.test_labels()\n",
    "\n",
    "print(train_images.shape) # (60000, 28, 28)\n",
    "print(train_labels.shape) # (60000,)\n",
    "\n",
    "# Normalize the images\n",
    "train_images = (train_images / 255) - 0.5\n",
    "test_images = (test_images / 255) - 0.5\n",
    "\n",
    "# Flatten the images\n",
    "train_images = train_images.reshape((-1, 784))\n",
    "test_images = test_images.reshape((-1, 784))\n",
    "\n",
    "print(train_images.shape) # (60000, 784)\n",
    "print(test_images.shape)  # (10000, 784)"
   ]
  },
  {
   "cell_type": "markdown",
   "id": "b91e9b3b-1fda-4c66-b68e-fd080a735549",
   "metadata": {},
   "source": [
    "![Keras model compilation](pngs/keras_model_compile.png \"Keras model compilation\")\n",
    "\n",
    "Refer: https://victorzhou.com/blog/keras-neural-network-tutorial/#4-compiling-the-model"
   ]
  },
  {
   "cell_type": "code",
   "execution_count": 30,
   "id": "f3d7e291-14a8-4808-bdd1-b3bfb7c77330",
   "metadata": {},
   "outputs": [
    {
     "name": "stdout",
     "output_type": "stream",
     "text": [
      "Epoch 1/5\n",
      "\u001b[1m1875/1875\u001b[0m \u001b[32m━━━━━━━━━━━━━━━━━━━━\u001b[0m\u001b[37m\u001b[0m \u001b[1m1s\u001b[0m 461us/step - accuracy: 0.8338 - loss: 0.5604\n",
      "Epoch 2/5\n",
      "\u001b[1m1875/1875\u001b[0m \u001b[32m━━━━━━━━━━━━━━━━━━━━\u001b[0m\u001b[37m\u001b[0m \u001b[1m1s\u001b[0m 370us/step - accuracy: 0.9436 - loss: 0.1813\n",
      "Epoch 3/5\n",
      "\u001b[1m1875/1875\u001b[0m \u001b[32m━━━━━━━━━━━━━━━━━━━━\u001b[0m\u001b[37m\u001b[0m \u001b[1m1s\u001b[0m 373us/step - accuracy: 0.9578 - loss: 0.1361\n",
      "Epoch 4/5\n",
      "\u001b[1m1875/1875\u001b[0m \u001b[32m━━━━━━━━━━━━━━━━━━━━\u001b[0m\u001b[37m\u001b[0m \u001b[1m1s\u001b[0m 381us/step - accuracy: 0.9642 - loss: 0.1129\n",
      "Epoch 5/5\n",
      "\u001b[1m1875/1875\u001b[0m \u001b[32m━━━━━━━━━━━━━━━━━━━━\u001b[0m\u001b[37m\u001b[0m \u001b[1m1s\u001b[0m 419us/step - accuracy: 0.9699 - loss: 0.0947\n"
     ]
    },
    {
     "data": {
      "text/plain": [
       "<keras.src.callbacks.history.History at 0x31f76d820>"
      ]
     },
     "execution_count": 30,
     "metadata": {},
     "output_type": "execute_result"
    }
   ],
   "source": [
    "# Setup Model\n",
    "# 2 types of models available in Keras - Sequential and Model (which is more functional and more customizable)\n",
    "model = Sequential([\n",
    "  Input(shape=(784,)),\n",
    "  Dense(64, activation='relu'),\n",
    "  Dense(64, activation='relu'),\n",
    "  Dense(10, activation='softmax'),\n",
    "])\n",
    "\n",
    "model.compile(\n",
    "  optimizer='adam',\n",
    "  loss='categorical_crossentropy',\n",
    "  metrics=['accuracy'],\n",
    ")\n",
    "\n",
    "# Train model\n",
    "model.fit(\n",
    "  train_images,\n",
    "  to_categorical(train_labels), #to_categorical does one hot encoding\n",
    "  epochs=5,\n",
    "  batch_size=32,\n",
    ")"
   ]
  },
  {
   "cell_type": "code",
   "execution_count": 29,
   "id": "11d24683-8aba-4806-9c52-58212a0b11db",
   "metadata": {},
   "outputs": [
    {
     "name": "stdout",
     "output_type": "stream",
     "text": [
      "\u001b[1m313/313\u001b[0m \u001b[32m━━━━━━━━━━━━━━━━━━━━\u001b[0m\u001b[37m\u001b[0m \u001b[1m0s\u001b[0m 220us/step - accuracy: 0.9615 - loss: 0.1211\n"
     ]
    },
    {
     "data": {
      "text/plain": [
       "[0.10379635542631149, 0.9678999781608582]"
      ]
     },
     "execution_count": 29,
     "metadata": {},
     "output_type": "execute_result"
    }
   ],
   "source": [
    "# Test model\n",
    "model.evaluate(\n",
    "  test_images,\n",
    "  to_categorical(test_labels)\n",
    ")"
   ]
  },
  {
   "cell_type": "code",
   "execution_count": 25,
   "id": "611ed29c-82ad-4aff-9fd6-abdca75908c5",
   "metadata": {},
   "outputs": [
    {
     "name": "stdout",
     "output_type": "stream",
     "text": [
      "\u001b[1m313/313\u001b[0m \u001b[32m━━━━━━━━━━━━━━━━━━━━\u001b[0m\u001b[37m\u001b[0m \u001b[1m0s\u001b[0m 215us/step - accuracy: 0.9615 - loss: 0.1211\n"
     ]
    },
    {
     "data": {
      "text/plain": [
       "[0.10379635542631149, 0.9678999781608582]"
      ]
     },
     "execution_count": 25,
     "metadata": {},
     "output_type": "execute_result"
    }
   ],
   "source": [
    "# Save the model weights to disk, and load from disk to make a new model to be used in the future\n",
    "model.save_weights('model.weights.h5')\n",
    "\n",
    "# Load a new model using the saved weights!!\n",
    "model_new = Sequential([\n",
    "  Input(shape=(784,)),\n",
    "  Dense(64, activation='relu'),\n",
    "  Dense(64, activation='relu'),\n",
    "  Dense(10, activation='softmax'),\n",
    "])\n",
    "\n",
    "# Load the model's saved weights.\n",
    "model_new.load_weights('model.weights.h5')\n",
    "\n",
    "model_new.compile(\n",
    "  optimizer='adam',\n",
    "  loss='categorical_crossentropy',\n",
    "  metrics=['accuracy'],\n",
    ")\n",
    "\n",
    "# TEST!!!!\n",
    "model_new.evaluate(\n",
    "  test_images,\n",
    "  to_categorical(test_labels)\n",
    ") # You get the same accuracy and loss values when using the new model!!!!"
   ]
  },
  {
   "cell_type": "code",
   "execution_count": 28,
   "id": "e2af4c13-0232-46e7-8a9e-ecada1d3e3a9",
   "metadata": {},
   "outputs": [
    {
     "name": "stdout",
     "output_type": "stream",
     "text": [
      "\u001b[1m1/1\u001b[0m \u001b[32m━━━━━━━━━━━━━━━━━━━━\u001b[0m\u001b[37m\u001b[0m \u001b[1m0s\u001b[0m 10ms/step\n"
     ]
    },
    {
     "data": {
      "text/plain": [
       "array([7, 2, 1, 0, 4])"
      ]
     },
     "execution_count": 28,
     "metadata": {},
     "output_type": "execute_result"
    }
   ],
   "source": [
    "predictions: np.array = model.predict(test_images[:5])\n",
    "predictions_into_determined_number: np.array = np.argmax(predictions, axis=1)\n",
    "predictions_into_determined_number"
   ]
  },
  {
   "cell_type": "markdown",
   "id": "c9b73343-fae3-4919-bee9-744fb2eed7a9",
   "metadata": {},
   "source": [
    "## Hyperparameter Tuning!!!"
   ]
  },
  {
   "cell_type": "code",
   "execution_count": null,
   "id": "bb8dc6f1-4667-4c14-9b6b-b521d8d50040",
   "metadata": {},
   "outputs": [],
   "source": []
  },
  {
   "cell_type": "markdown",
   "id": "f2e8f604-6ea1-4800-8710-61bd41c22f9d",
   "metadata": {},
   "source": [
    "## Tensorflow Introduction"
   ]
  },
  {
   "cell_type": "code",
   "execution_count": 37,
   "id": "d7dc0b4f-9bde-4efe-a163-b7cc40492c6c",
   "metadata": {},
   "outputs": [
    {
     "data": {
      "text/plain": [
       "TensorShape([])"
      ]
     },
     "execution_count": 37,
     "metadata": {},
     "output_type": "execute_result"
    }
   ],
   "source": [
    "_zrt = tf.constant(3) # scalar - zero rank Tensor\n",
    "_onert = tf.constant([3, 5, 6]) # vector - 1 rank Tensor"
   ]
  }
 ],
 "metadata": {
  "kernelspec": {
   "display_name": "datascience-venv",
   "language": "python",
   "name": "datascience-venv"
  },
  "language_info": {
   "codemirror_mode": {
    "name": "ipython",
    "version": 3
   },
   "file_extension": ".py",
   "mimetype": "text/x-python",
   "name": "python",
   "nbconvert_exporter": "python",
   "pygments_lexer": "ipython3",
   "version": "3.9.6"
  }
 },
 "nbformat": 4,
 "nbformat_minor": 5
}
