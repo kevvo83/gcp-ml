{
 "cells": [
  {
   "cell_type": "markdown",
   "id": "624f580f-330e-4916-a5ae-6231d343cc74",
   "metadata": {},
   "source": [
    "# Intro to NNets\n",
    "\n",
    "Reference: https://victorzhou.com/blog/intro-to-neural-networks/\n",
    "\n",
    "## Instructions\n",
    "\n",
    "1. Create Virtual Environment: `python3 -m venv datascience-venv`\n",
    "2. Set Virtual Environment: `source datascience-venv/bin/activate`\n",
    "3. Install JupyterLab in your Virtual Env using pip: `pip3 install jupyterlab`\n",
    "4. Install dependencies (`numpy`, `pandas`, `scikit-learn`) into the virtual environment\n",
    "   * `pip3 install pandas`, `pip3 install scikit-learn`\n",
    "5. Add your Virtual Environment as a kernel to Jupyterlab: `python3 -m ipykernel install --user --name=datascience-venv`\n",
    "6. Start JupyterLab from the virtual environment: `jupyter-lab --notebook-dir <location of your notebooks>`\n",
    "7. Make sure your set your Virtual Env's kernel in the notebook that you're using"
   ]
  },
  {
   "attachments": {},
   "cell_type": "markdown",
   "id": "42ce5d5f-db80-4cb5-b7fe-2721deff76ab",
   "metadata": {},
   "source": [
    "## Neural Net being built\n",
    "\n",
    "![Neural Net being built](pngs/neural_net_intro_network.svg \"Neural Net being built\")"
   ]
  },
  {
   "cell_type": "code",
   "execution_count": 3,
   "id": "2af7807c-fa50-43eb-bffe-d06e12ebb1af",
   "metadata": {},
   "outputs": [],
   "source": [
    "import numpy as np\n",
    "import pandas as pd"
   ]
  },
  {
   "cell_type": "code",
   "execution_count": 56,
   "id": "6b910848-05f9-423b-a2a4-b70fa0004142",
   "metadata": {},
   "outputs": [
    {
     "data": {
      "text/plain": [
       "[1, 2]"
      ]
     },
     "execution_count": 56,
     "metadata": {},
     "output_type": "execute_result"
    }
   ],
   "source": [
    "l = np.array([1,2,3,4,5,6])\n",
    "l[4:6]\n",
    "\n",
    "[1,2,3,4,5,6][0:2]"
   ]
  },
  {
   "cell_type": "code",
   "execution_count": 48,
   "id": "a5570acf-81ac-49b0-9a8d-0004d8056d46",
   "metadata": {},
   "outputs": [],
   "source": [
    "# sigmoid activation function\n",
    "def sigmoid(logit: float) -> float:\n",
    "    return 1 / (1 + np.exp(-1 * logit))\n",
    "\n",
    "# RMSE - aka Root Mean Square Error\n",
    "def rmse_impl(ypred: np.array, yactual: np.array):\n",
    "    return ((ypred - yactual) ** 2).mean()\n",
    "\n",
    "class Neuron:\n",
    "    def __init__(self, weights, bias, activation_function):\n",
    "        self.weights: np.array = weights\n",
    "        self.bias: int = bias\n",
    "        self.activation_function = activation_function\n",
    "    def feed_forward(self, input_vector: np.array) -> float:\n",
    "        # note: Dot Product of matrixes returns a scalar value\n",
    "        return self.activation_function(np.dot(input_vector, self.weights) + self.bias)\n",
    "\n",
    "class NeuralNet:\n",
    "    def __init__(self, weights: list, biases: list):\n",
    "        self.weights_w1_w2: np.array = np.array(weights[0:2])\n",
    "        self.weights_w3_w4: np.array = np.array(weights[2:4])\n",
    "        self.weights_w5_w6: np.array = weights[4:6]\n",
    "        self.bias_h1 = biases[0]\n",
    "        self.bias_h2 = biases[1]\n",
    "        self.bias_h3 = biases[2]\n",
    "\n",
    "        # hidden layer\n",
    "        self.h1: Neuron = Neuron(self.weights_w1_w2, self.bias_h1, sigmoid)\n",
    "        self.h2: Neuron = Neuron(self.weights_w3_w4, self.bias_h2, sigmoid)\n",
    "\n",
    "        # output layer\n",
    "        self.o1: Neuron = Neuron(self.weights_w5_w6, self.bias_h3, sigmoid)\n",
    "\n",
    "    def feed_forward(self, input_vector: np.array) -> float:\n",
    "        # Feed the activated return values from h1 and h2 into o1\n",
    "        return self.o1.feed_forward(\n",
    "            np.array([\n",
    "                self.h1.feed_forward(input_vector),\n",
    "                self.h2.feed_forward(input_vector)\n",
    "            ])\n",
    "        )\n",
    "\n",
    "\n",
    "# np.array([0, 1])"
   ]
  },
  {
   "cell_type": "code",
   "execution_count": 49,
   "id": "23f3b7f3-05f7-45dc-a1ce-48b923e25a4b",
   "metadata": {},
   "outputs": [
    {
     "data": {
      "text/plain": [
       "0.5"
      ]
     },
     "execution_count": 49,
     "metadata": {},
     "output_type": "execute_result"
    }
   ],
   "source": [
    "# tests \n",
    "\n",
    "# neuron methods test\n",
    "weights = np.array([0, 1]) # w1, w2 in the diagram above\n",
    "bias = 4 # b1 in the diagram above\n",
    "X = np.array([2, 3]) # input vector - weight, height in the diagram above\n",
    "\n",
    "n = Neuron(weights=weights, bias=bias, activation_function=sigmoid)\n",
    "h1 = n.feed_forward(X)\n",
    "\n",
    "assert isinstance(h1, float), \"Feed forward type is not float\"\n",
    "h1 # Expected value is meant to look like - 0.9990889488055994\n",
    "\n",
    "# neural net methods test\n",
    "nnet = NeuralNet(np.array([0, 1, 0, 1, 0, 1]), np.array([]))\n",
    "o1 = nnet.feed_forward(X)\n",
    "\n",
    "assert o1 == 0.7216325609518421 # Got the value from the reference link for assert comparison\n",
    "\n",
    "\n",
    "# rmse function test\n",
    "y_true = np.array([1, 0, 0, 1])\n",
    "y_pred = np.array([0, 0, 0, 0])\n",
    "\n",
    "rmse = rmse_impl(y_true, y_pred)\n",
    "rmse"
   ]
  },
  {
   "cell_type": "markdown",
   "id": "150ba716-cc50-4e54-adaf-79e0b2e265f1",
   "metadata": {},
   "source": [
    "## Backpropagation\n",
    "\n",
    "Refer to the reference URL to follow along for the derivative.\n",
    "\n",
    "![Derivatives Intuition](pngs/derivatives_eq.png \"Derivatives Intuition\")\n",
    "\n",
    "Stochastic Gradient Descent to train the NNet\n",
    "\n",
    "\n",
    "![SGD](pngs/stochastic_grad_descent_intro.png \"SGD Intro\")"
   ]
  },
  {
   "cell_type": "code",
   "execution_count": null,
   "id": "21d843e1-3be7-40f8-a901-85483c575153",
   "metadata": {},
   "outputs": [],
   "source": []
  },
  {
   "cell_type": "code",
   "execution_count": null,
   "id": "b5f8b2c6-43a7-4a1c-99f4-01754b6dba6f",
   "metadata": {},
   "outputs": [],
   "source": []
  },
  {
   "cell_type": "code",
   "execution_count": null,
   "id": "e0debbbc-55f2-4b29-9503-4d09172ad2a6",
   "metadata": {},
   "outputs": [],
   "source": []
  }
 ],
 "metadata": {
  "kernelspec": {
   "display_name": "datascience-venv",
   "language": "python",
   "name": "datascience-venv"
  },
  "language_info": {
   "codemirror_mode": {
    "name": "ipython",
    "version": 3
   },
   "file_extension": ".py",
   "mimetype": "text/x-python",
   "name": "python",
   "nbconvert_exporter": "python",
   "pygments_lexer": "ipython3",
   "version": "3.9.6"
  }
 },
 "nbformat": 4,
 "nbformat_minor": 5
}
