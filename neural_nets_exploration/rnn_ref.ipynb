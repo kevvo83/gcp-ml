{
 "cells": [
  {
   "cell_type": "code",
   "execution_count": 3,
   "id": "bb49ff82-7610-4013-8e25-0518ba7aaaf8",
   "metadata": {},
   "outputs": [],
   "source": [
    "import numpy as np\n",
    "from numpy.random import randn\n",
    "\n",
    "class RNN:\n",
    "  # A many-to-one Vanilla Recurrent Neural Network.\n",
    "\n",
    "  def __init__(self, input_size, output_size, hidden_size=64):\n",
    "    # Weights\n",
    "    self.Whh = randn(hidden_size, hidden_size) / 1000\n",
    "    self.Wxh = randn(hidden_size, input_size) / 1000\n",
    "    self.Why = randn(output_size, hidden_size) / 1000\n",
    "\n",
    "    # Biases\n",
    "    self.bh = np.zeros((hidden_size, 1))\n",
    "    self.by = np.zeros((output_size, 1))\n",
    "\n",
    "  def forward(self, inputs):\n",
    "    '''\n",
    "    Perform a forward pass of the RNN using the given inputs.\n",
    "    Returns the final output and hidden state.\n",
    "    - inputs is an array of one hot vectors with shape (input_size, 1).\n",
    "    '''\n",
    "    h = np.zeros((self.Whh.shape[0], 1))\n",
    "\n",
    "    self.last_inputs = inputs\n",
    "    self.last_hs = { 0: h }\n",
    "\n",
    "    # Perform each step of the RNN\n",
    "    for i, x in enumerate(inputs):\n",
    "      h = np.tanh(self.Wxh @ x + self.Whh @ h + self.bh)\n",
    "      self.last_hs[i + 1] = h\n",
    "\n",
    "    # Compute the output\n",
    "    y = self.Why @ h + self.by\n",
    "\n",
    "    return y, h\n",
    "\n",
    "  def backprop(self, d_y, learn_rate=2e-2):\n",
    "    '''\n",
    "    Perform a backward pass of the RNN.\n",
    "    - d_y (dL/dy) has shape (output_size, 1).\n",
    "    - learn_rate is a float.\n",
    "    '''\n",
    "    n = len(self.last_inputs)\n",
    "\n",
    "    # Calculate dL/dWhy and dL/dby.\n",
    "    d_Why = d_y @ self.last_hs[n].T\n",
    "    d_by = d_y\n",
    "\n",
    "    # Initialize dL/dWhh, dL/dWxh, and dL/dbh to zero.\n",
    "    d_Whh = np.zeros(self.Whh.shape)\n",
    "    d_Wxh = np.zeros(self.Wxh.shape)\n",
    "    d_bh = np.zeros(self.bh.shape)\n",
    "\n",
    "    # Calculate dL/dh for the last h.\n",
    "    # dL/dh = dL/dy * dy/dh\n",
    "    d_h = self.Why.T @ d_y\n",
    "\n",
    "    # Backpropagate through time.\n",
    "    for t in reversed(range(n)):\n",
    "      # An intermediate value: dL/dh * (1 - h^2)\n",
    "      temp = ((1 - self.last_hs[t + 1] ** 2) * d_h)\n",
    "\n",
    "      # dL/db = dL/dh * (1 - h^2)\n",
    "      d_bh += temp\n",
    "\n",
    "      # dL/dWhh = dL/dh * (1 - h^2) * h_{t-1}\n",
    "      d_Whh += temp @ self.last_hs[t].T\n",
    "\n",
    "      # dL/dWxh = dL/dh * (1 - h^2) * x\n",
    "      d_Wxh += temp @ self.last_inputs[t].T\n",
    "\n",
    "      # Next dL/dh = dL/dh * (1 - h^2) * Whh\n",
    "      d_h = self.Whh @ temp\n",
    "\n",
    "    # Clip to prevent exploding gradients.\n",
    "    for d in [d_Wxh, d_Whh, d_Why, d_bh, d_by]:\n",
    "      np.clip(d, -1, 1, out=d)\n",
    "\n",
    "    # Update weights and biases using gradient descent.\n",
    "    self.Whh -= learn_rate * d_Whh\n",
    "    self.Wxh -= learn_rate * d_Wxh\n",
    "    self.Why -= learn_rate * d_Why\n",
    "    self.bh -= learn_rate * d_bh\n",
    "    self.by -= learn_rate * d_by"
   ]
  },
  {
   "cell_type": "code",
   "execution_count": 11,
   "id": "e794a2dd-9148-4ff7-96e2-f7252921737e",
   "metadata": {},
   "outputs": [
    {
     "name": "stdout",
     "output_type": "stream",
     "text": [
      "18 unique words found\n"
     ]
    }
   ],
   "source": [
    "import numpy as np\n",
    "import random\n",
    "\n",
    "from test_data.rnns_testdata import train_data, test_data\n",
    "\n",
    "# Create the vocabulary.\n",
    "vocab = list(set([w for text in train_data.keys() for w in text.split(' ')]))\n",
    "vocab_size = len(vocab)\n",
    "print('%d unique words found' % vocab_size)\n",
    "\n",
    "# Assign indices to each word.\n",
    "word_to_idx = { w: i for i, w in enumerate(vocab) }\n",
    "idx_to_word = { i: w for i, w in enumerate(vocab) }\n",
    "# print(word_to_idx['good'])\n",
    "# print(idx_to_word[0])\n",
    "\n",
    "def createInputs(text):\n",
    "  '''\n",
    "  Returns an array of one-hot vectors representing the words in the input text string.\n",
    "  - text is a string\n",
    "  - Each one-hot vector has shape (vocab_size, 1)\n",
    "  '''\n",
    "  inputs = []\n",
    "  for w in text.split(' '):\n",
    "    v = np.zeros((vocab_size, 1))\n",
    "    v[word_to_idx[w]] = 1\n",
    "    inputs.append(v)\n",
    "  return inputs\n",
    "\n",
    "def softmax(xs):\n",
    "  # Applies the Softmax Function to the input array.\n",
    "  return np.exp(xs) / sum(np.exp(xs))\n",
    "\n",
    "# Initialize our RNN!\n",
    "rnn = RNN(vocab_size, 2)\n",
    "\n",
    "def processData(data, backprop=True):\n",
    "  '''\n",
    "  Returns the RNN's loss and accuracy for the given data.\n",
    "  - data is a dictionary mapping text to True or False.\n",
    "  - backprop determines if the backward phase should be run.\n",
    "  '''\n",
    "  items = list(data.items())\n",
    "  random.shuffle(items)\n",
    "\n",
    "  loss = 0\n",
    "  num_correct = 0\n",
    "\n",
    "  for x, y in items:\n",
    "    inputs = createInputs(x)\n",
    "    target = int(y)\n",
    "\n",
    "    # Forward\n",
    "    out, _ = rnn.forward(inputs)\n",
    "    probs = softmax(out)\n",
    "\n",
    "    # Calculate loss / accuracy\n",
    "    loss -= np.log(probs[target])\n",
    "    num_correct += int(np.argmax(probs) == target)\n",
    "\n",
    "    if backprop:\n",
    "      # Build dL/dy\n",
    "      d_L_d_y = probs\n",
    "      d_L_d_y[target] -= 1\n",
    "\n",
    "      # Backward\n",
    "      rnn.backprop(d_L_d_y)\n",
    "\n",
    "  return loss / len(data), num_correct / len(data)\n",
    "\n",
    "\n",
    "if False:\n",
    "    # Training loop\n",
    "    for epoch in range(1000):\n",
    "      train_loss, train_acc = processData(train_data)\n",
    "    \n",
    "      if epoch % 100 == 99:\n",
    "        print('--- Epoch %d' % (epoch + 1))\n",
    "        print('Train:\\tLoss %.3f | Accuracy: %.3f' % (train_loss, train_acc))\n",
    "    \n",
    "        test_loss, test_acc = processData(test_data, backprop=False)\n",
    "        print('Test:\\tLoss %.3f | Accuracy: %.3f' % (test_loss, test_acc))"
   ]
  },
  {
   "cell_type": "code",
   "execution_count": 66,
   "id": "fc4b4a7d-4cac-4bda-9afa-7b986e3fbcbc",
   "metadata": {},
   "outputs": [
    {
     "name": "stdout",
     "output_type": "stream",
     "text": [
      "Vocab size: 18\n"
     ]
    },
    {
     "data": {
      "text/plain": [
       "array([[0.50000135],\n",
       "       [0.49999865]])"
      ]
     },
     "execution_count": 66,
     "metadata": {},
     "output_type": "execute_result"
    }
   ],
   "source": [
    "# Test forward pass\n",
    "print(\"Vocab size: %i\" % vocab_size)\n",
    "rnn = RNN(vocab_size, 2)\n",
    "inputs = createInputs('i am very good')\n",
    "out, h = rnn.forward(inputs)\n",
    "\n",
    "softmax(out)"
   ]
  },
  {
   "cell_type": "code",
   "execution_count": null,
   "id": "32db0e0e-c38c-475c-8757-c37585f9b3db",
   "metadata": {},
   "outputs": [],
   "source": []
  },
  {
   "cell_type": "code",
   "execution_count": 31,
   "id": "b7ddbf56-5388-43bc-b49e-8f227717bb32",
   "metadata": {},
   "outputs": [
    {
     "data": {
      "text/plain": [
       "(64, 64)"
      ]
     },
     "execution_count": 31,
     "metadata": {},
     "output_type": "execute_result"
    }
   ],
   "source": [
    "import sys\n",
    "\n",
    "rnn.Whh.shape # 64x64\n",
    "np.set_printoptions(threshold=sys.maxsize)\n",
    "rnn.Whh"
   ]
  }
 ],
 "metadata": {
  "kernelspec": {
   "display_name": "datascience-venv",
   "language": "python",
   "name": "datascience-venv"
  },
  "language_info": {
   "codemirror_mode": {
    "name": "ipython",
    "version": 3
   },
   "file_extension": ".py",
   "mimetype": "text/x-python",
   "name": "python",
   "nbconvert_exporter": "python",
   "pygments_lexer": "ipython3",
   "version": "3.9.6"
  }
 },
 "nbformat": 4,
 "nbformat_minor": 5
}
